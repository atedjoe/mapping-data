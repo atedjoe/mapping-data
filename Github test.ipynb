{
 "cells": [
  {
   "cell_type": "code",
   "execution_count": null,
   "metadata": {},
   "outputs": [],
   "source": []
  }
 ],
 "metadata": {
  "kernelspec": {
   "display_name": "Python 3.10.5 64-bit (windows store)",
   "language": "python",
   "name": "python3"
  },
  "language_info": {
   "name": "python",
   "version": "3.10.5"
  },
  "orig_nbformat": 4,
  "vscode": {
   "interpreter": {
    "hash": "cbf2679f44a3c72583bdad127afa41723e29d9594d8e1847675869f5860407f2"
   }
  }
 },
 "nbformat": 4,
 "nbformat_minor": 2
}
